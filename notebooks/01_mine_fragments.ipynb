{
 "cells": [
  {
   "cell_type": "code",
   "execution_count": null,
   "id": "01db3ffb",
   "metadata": {},
   "outputs": [],
   "source": [
    "%load_ext autoreload\n",
    "%autoreload 2\n",
    "import math\n",
    "import sys\n",
    "sys.path.append('../')\n",
    "\n",
    "from process_fragment_miner import (\n",
    "    ProcessFragmentMiner,\n",
    "    BigramScorer,\n",
    "    DependencyScorer,\n",
    "    SimilarityScorer,\n",
    "    ScorerFactory\n",
    ")\n",
    "\n",
    "from process_fragment_miner.adapters import load_event_log"
   ]
  },
  {
   "cell_type": "code",
   "execution_count": null,
   "id": "5a980687",
   "metadata": {},
   "outputs": [],
   "source": [
    "# 1. Load event log from .xes file (using PM4Py)\n",
    "event_log = load_event_log(\"../data/raw/BPIC12.xes.gz\")"
   ]
  },
  {
   "cell_type": "code",
   "execution_count": null,
   "id": "aeb114e2",
   "metadata": {},
   "outputs": [],
   "source": [
    "# 2. Initialize the miner\n",
    "miner = ProcessFragmentMiner(\n",
    "    event_log=event_log,\n",
    "    scorer=\"bigram\",\n",
    "    # scorer_kwargs={\"remove_loops\": True}\n",
    ")\n",
    "\n",
    "# 3. Extract top subtraces using DFS\n",
    "subtraces = miner.extract_subtraces(max_depth=1000, min_depth=2, top_k=math.inf)\n",
    "\n",
    "# 4. Select the best disjoint subset of fragments\n",
    "score, best_traces, scores, method_used = miner.mine_best_fragments(\n",
    "    subtraces=subtraces,\n",
    "    score_agg=\"sum\",       # or \"mean\", \"log_likelihood\"\n",
    "    alpha=0.0,             # reward per unique activity\n",
    "    beam_size=50,\n",
    "    max_memory_mb=1024,\n",
    "    method=\"auto\",         # try \"dp\", \"beam\", or \"auto\"\n",
    "    return_details=True,\n",
    "    ensure_coverage=True\n",
    ")\n",
    "\n",
    "# 5. Output results\n",
    "print(\"Best Score:\", score)\n",
    "print(\"Best Fragments:\")\n",
    "display(best_traces)\n",
    "\n",
    "display(scores)\n",
    "\n",
    "print(\"Method used:\", method_used)\n"
   ]
  }
 ],
 "metadata": {
  "kernelspec": {
   "display_name": ".venv",
   "language": "python",
   "name": "python3"
  },
  "language_info": {
   "codemirror_mode": {
    "name": "ipython",
    "version": 3
   },
   "file_extension": ".py",
   "mimetype": "text/x-python",
   "name": "python",
   "nbconvert_exporter": "python",
   "pygments_lexer": "ipython3",
   "version": "3.11.13"
  }
 },
 "nbformat": 4,
 "nbformat_minor": 5
}
